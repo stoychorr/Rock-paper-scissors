{
 "cells": [
  {
   "cell_type": "code",
   "execution_count": 29,
   "id": "5d16ebb5-5b3f-4a87-a9e7-0e42b6a88bb8",
   "metadata": {
    "ExecuteTime": {
     "end_time": "2024-09-29T19:51:46.594661Z",
     "start_time": "2024-09-29T19:51:46.589753Z"
    }
   },
   "outputs": [
    {
     "name": "stdin",
     "output_type": "stream",
     "text": [
      "Choose [r]ock, [p]aper or [s]cissors:  r\n"
     ]
    },
    {
     "name": "stdout",
     "output_type": "stream",
     "text": [
      "You win\n"
     ]
    },
    {
     "name": "stdin",
     "output_type": "stream",
     "text": [
      "Choose [r]ock, [p]aper or [s]cissors:  r\n"
     ]
    },
    {
     "name": "stdout",
     "output_type": "stream",
     "text": [
      "You win\n"
     ]
    },
    {
     "name": "stdin",
     "output_type": "stream",
     "text": [
      "Choose [r]ock, [p]aper or [s]cissors:  r\n"
     ]
    },
    {
     "name": "stdout",
     "output_type": "stream",
     "text": [
      "You lose\n"
     ]
    },
    {
     "name": "stdin",
     "output_type": "stream",
     "text": [
      "Choose [r]ock, [p]aper or [s]cissors:  Stop\n"
     ]
    },
    {
     "name": "stdout",
     "output_type": "stream",
     "text": [
      "Final results:\n",
      "----------\n",
      "Computer scored=1\n",
      "User scored=2\n",
      "----------\n"
     ]
    }
   ],
   "source": [
    "import random \n",
    "rock=\"Rock\"\n",
    "paper=\"Paper\"\n",
    "scissors=\"Scissors\"\n",
    "player_move=input(\"Choose [r]ock, [p]aper or [s]cissors: \")\n",
    "if player_move==\"r\":\n",
    "    player_move=rock\n",
    "elif player_move==\"p\":\n",
    "    player_move=paper\n",
    "elif player_move==\"s\":\n",
    "    player_move=scissors\n",
    "else:\n",
    "    raise SystemExit(\"Invalid Input. Try again...\")\n",
    "comp=0\n",
    "player=0\n",
    "while True:\n",
    "    \n",
    "    if comp!=0 or player!=0:\n",
    "        player_move=input(\"Choose [r]ock, [p]aper or [s]cissors: \")\n",
    "        if player_move==\"r\":\n",
    "            player_move=rock\n",
    "        elif player_move==\"p\":\n",
    "            player_move=paper\n",
    "        elif player_move==\"s\":\n",
    "            player_move=scissors\n",
    "        elif player_move==\"Stop\":\n",
    "            break\n",
    "        else:\n",
    "            raise SystemExit(\"Invalid Input. Try again...\")\n",
    "    computer_choice=random.randint(1,3)\n",
    "    if computer_choice==1:\n",
    "        computer_choice=rock\n",
    "    if computer_choice==2:\n",
    "        computer_choice=paper\n",
    "    else:\n",
    "        computer_choice=scissors\n",
    "    if computer_choice==player_move:\n",
    "        print(\"Draw\")\n",
    "        comp+=1\n",
    "        player+=1\n",
    "    elif computer_choice==scissors and player_move==paper:\n",
    "        print(\"You lose\")\n",
    "        comp+=1\n",
    "    elif computer_choice==rock and player_move==scissors:\n",
    "        print(\"You lose\")\n",
    "        comp+=1\n",
    "    elif computer_choice==paper and player_move==rock:\n",
    "        print(\"You lose\")\n",
    "        comp+=1\n",
    "    else: \n",
    "        print(\"You win\")\n",
    "        player+=1\n",
    "print(f\"Final results:\")\n",
    "print(\"-\"*10)\n",
    "print(f\"Computer scored={comp}\")\n",
    "print(f\"User scored={player}\")\n",
    "print(\"-\"*10)        "
   ]
  },
  {
   "cell_type": "code",
   "execution_count": null,
   "id": "605f4860-ff15-4b18-916f-9f5bfd6f2ada",
   "metadata": {},
   "outputs": [],
   "source": []
  }
 ],
 "metadata": {
  "kernelspec": {
   "display_name": "Python 3 (ipykernel)",
   "language": "python",
   "name": "python3"
  },
  "language_info": {
   "codemirror_mode": {
    "name": "ipython",
    "version": 3
   },
   "file_extension": ".py",
   "mimetype": "text/x-python",
   "name": "python",
   "nbconvert_exporter": "python",
   "pygments_lexer": "ipython3",
   "version": "3.10.14"
  }
 },
 "nbformat": 4,
 "nbformat_minor": 5
}
