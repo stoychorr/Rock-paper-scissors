{
 "cells": [
  {
   "cell_type": "code",
   "execution_count": 16,
   "id": "5d16ebb5-5b3f-4a87-a9e7-0e42b6a88bb8",
   "metadata": {
    "ExecuteTime": {
     "end_time": "2024-09-29T19:51:46.594661Z",
     "start_time": "2024-09-29T19:51:46.589753Z"
    }
   },
   "outputs": [
    {
     "name": "stdin",
     "output_type": "stream",
     "text": [
      "Choose [r]ock, [p]aper or [s]cissors:  r\n"
     ]
    }
   ],
   "source": [
    "rock=\"Rock\"\n",
    "paper=\"Paper\"\n",
    "scissors=\"Scissors\"\n",
    "player_move=input(\"Choose [r]ock, [p]aper or [s]cissors: \")\n",
    "if player_move==\"r\":\n",
    "    player_move=rock\n",
    "elif player_move==\"p\":\n",
    "    player_move=paper\n",
    "elif player_move==\"s\":\n",
    "    player_move=scissors\n",
    "else:\n",
    "    raise SystemExit(\"Invalid Input. Try again...\")"
   ]
  },
  {
   "cell_type": "code",
   "execution_count": 17,
   "id": "4f6b40c9-d433-4e27-80e0-ef53d78c1075",
   "metadata": {},
   "outputs": [],
   "source": [
    "#Now let us choose the computer moove\n",
    "import random \n",
    "computer_choice=random.randint(1,3)"
   ]
  },
  {
   "cell_type": "code",
   "execution_count": 18,
   "id": "ae6bc06a-8266-42a6-a4f0-4fa07eceeda2",
   "metadata": {},
   "outputs": [
    {
     "data": {
      "text/plain": [
       "'Scissors'"
      ]
     },
     "execution_count": 18,
     "metadata": {},
     "output_type": "execute_result"
    }
   ],
   "source": [
    "if computer_choice==1:\n",
    "    computer_choice=rock\n",
    "if computer_choice==2:\n",
    "    computer_choice=paper\n",
    "if computer_choice==3:\n",
    "    computer_choice=scissors\n",
    "computer_choice"
   ]
  },
  {
   "cell_type": "code",
   "execution_count": 19,
   "id": "5a3433f1-ae46-4b92-a090-6f01db2babd0",
   "metadata": {},
   "outputs": [
    {
     "name": "stdout",
     "output_type": "stream",
     "text": [
      "You win\n"
     ]
    }
   ],
   "source": [
    "if computer_choice==player_move:\n",
    "    print(\"Draw\")\n",
    "if computer_choice==scissors and player_move==paper:\n",
    "    print(\"You lose\")\n",
    "if computer_choice==rock and player_move==scissors:\n",
    "    print(\"You lose\")\n",
    "if computer_choice==paper and player_move==rock:\n",
    "    print(\"You lose\")\n",
    "else: \n",
    "    print(\"You win\")"
   ]
  }
 ],
 "metadata": {
  "kernelspec": {
   "display_name": "Python 3 (ipykernel)",
   "language": "python",
   "name": "python3"
  },
  "language_info": {
   "codemirror_mode": {
    "name": "ipython",
    "version": 3
   },
   "file_extension": ".py",
   "mimetype": "text/x-python",
   "name": "python",
   "nbconvert_exporter": "python",
   "pygments_lexer": "ipython3",
   "version": "3.10.14"
  }
 },
 "nbformat": 4,
 "nbformat_minor": 5
}
